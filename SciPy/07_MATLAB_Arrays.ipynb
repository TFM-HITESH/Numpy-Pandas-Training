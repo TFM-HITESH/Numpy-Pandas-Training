{
 "cells": [
  {
   "attachments": {},
   "cell_type": "markdown",
   "metadata": {},
   "source": [
    "WORKING WITH MATLAB ARRAYS :\n",
    "\n",
    "We know that NumPy provides us with methods to persist the data in readable formats for Python. But SciPy provides us with interoperability with Matlab as well.\n",
    "\n",
    "SciPy provides us with the module scipy.io, which has functions for working with Matlab arrays."
   ]
  },
  {
   "attachments": {},
   "cell_type": "markdown",
   "metadata": {},
   "source": [
    "EXPORTING DATA IN MATLAB FORMAT :\n",
    "\n",
    "The savemat() function allows us to export data in Matlab format.\n",
    "\n",
    "The method takes the following parameters:\n",
    "\n",
    "filename - the file name for saving data. \\\n",
    "mdict - a dictionary containing the data. \\\n",
    "do_compression - a boolean value that specifies whether to compress the result or not. Default False."
   ]
  },
  {
   "cell_type": "code",
   "execution_count": 1,
   "metadata": {},
   "outputs": [],
   "source": [
    "#Export the following array as variable name \"vec\" to a mat file:\n",
    "\n",
    "from scipy import io\n",
    "import numpy as np\n",
    "\n",
    "arr = np.arange(10)\n",
    "\n",
    "io.savemat('arr.mat', {\"vec\": arr})"
   ]
  }
 ],
 "metadata": {
  "kernelspec": {
   "display_name": "Python 3",
   "language": "python",
   "name": "python3"
  },
  "language_info": {
   "codemirror_mode": {
    "name": "ipython",
    "version": 3
   },
   "file_extension": ".py",
   "mimetype": "text/x-python",
   "name": "python",
   "nbconvert_exporter": "python",
   "pygments_lexer": "ipython3",
   "version": "3.11.1"
  },
  "orig_nbformat": 4
 },
 "nbformat": 4,
 "nbformat_minor": 2
}
