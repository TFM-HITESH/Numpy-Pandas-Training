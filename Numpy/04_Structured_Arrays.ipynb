{
 "cells": [
  {
   "attachments": {},
   "cell_type": "markdown",
   "metadata": {},
   "source": [
    "Structured Arrays :\n",
    "\n",
    "Structured arrays are n dimensional arrays whose datatype is a composition of simpler datatypes organized as a sequence of named fields"
   ]
  },
  {
   "cell_type": "code",
   "execution_count": 1,
   "metadata": {},
   "outputs": [],
   "source": [
    "import numpy as np"
   ]
  },
  {
   "cell_type": "code",
   "execution_count": 2,
   "metadata": {},
   "outputs": [],
   "source": [
    "x = np.array([('Sita', 39, 51.8), ('Gita', 23, 47.5)],\n",
    "            dtype=[('name', 'U10'), ('age', 'i4'), ('weight', 'f4')])"
   ]
  },
  {
   "attachments": {},
   "cell_type": "markdown",
   "metadata": {},
   "source": [
    "Here x is a one-dimensional array of length two whose datatype is a structure with three fields :\n",
    "\n",
    "1. A string of length 10 or less named ‘name’\n",
    "2. A 32-bit integer named ‘age’\n",
    "3. A 32-bit float named ‘weight’"
   ]
  },
  {
   "cell_type": "code",
   "execution_count": 3,
   "metadata": {},
   "outputs": [
    {
     "name": "stdout",
     "output_type": "stream",
     "text": [
      "[('Sita', 39, 51.8) ('Gita', 23, 47.5)]\n"
     ]
    }
   ],
   "source": [
    "# let's print x(structured array)\n",
    "\n",
    "print(x)"
   ]
  },
  {
   "cell_type": "code",
   "execution_count": 4,
   "metadata": {},
   "outputs": [
    {
     "name": "stdout",
     "output_type": "stream",
     "text": [
      "('Gita', 23, 47.5)\n",
      "('Sita', 39, 51.8)\n"
     ]
    }
   ],
   "source": [
    "# let's do some indexing\n",
    "\n",
    "print(x[1])\n",
    "print(x[0])"
   ]
  },
  {
   "cell_type": "code",
   "execution_count": 5,
   "metadata": {},
   "outputs": [
    {
     "name": "stdout",
     "output_type": "stream",
     "text": [
      "[39 23]\n",
      "['Sita' 'Gita']\n",
      "[51.8 47.5]\n"
     ]
    }
   ],
   "source": [
    "# let's try to access according to the fields\n",
    "\n",
    "print(x['age'])\n",
    "print(x['name'])\n",
    "print(x['weight'])"
   ]
  }
 ],
 "metadata": {
  "kernelspec": {
   "display_name": "Python 3",
   "language": "python",
   "name": "python3"
  },
  "language_info": {
   "codemirror_mode": {
    "name": "ipython",
    "version": 3
   },
   "file_extension": ".py",
   "mimetype": "text/x-python",
   "name": "python",
   "nbconvert_exporter": "python",
   "pygments_lexer": "ipython3",
   "version": "3.11.1"
  },
  "orig_nbformat": 4
 },
 "nbformat": 4,
 "nbformat_minor": 2
}
