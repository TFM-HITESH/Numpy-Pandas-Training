{
 "cells": [
  {
   "attachments": {},
   "cell_type": "markdown",
   "metadata": {},
   "source": [
    "# NUMPY OPERATIONS :\n",
    "\n",
    "Operations on Numpy Arrays :\n",
    "\n",
    "1. Manipulating Arrays\n",
    "2. Mathematical Operations on Arrays"
   ]
  },
  {
   "attachments": {},
   "cell_type": "markdown",
   "metadata": {},
   "source": [
    "Manipulating Arrays :\n",
    "\n",
    "1. Reshaping Arrays\n",
    "2. Transposing Arrays\n",
    "3. Stacking Arrays"
   ]
  },
  {
   "cell_type": "code",
   "execution_count": 1,
   "metadata": {},
   "outputs": [],
   "source": [
    "import numpy as np"
   ]
  },
  {
   "attachments": {},
   "cell_type": "markdown",
   "metadata": {},
   "source": [
    "# Reshaping Arrays : \n",
    "\n",
    "Reshaping is done using the reshape() function."
   ]
  },
  {
   "cell_type": "code",
   "execution_count": 2,
   "metadata": {},
   "outputs": [
    {
     "name": "stdout",
     "output_type": "stream",
     "text": [
      "[ 0  1  2  3  4  5  6  7  8  9 10 11]\n"
     ]
    }
   ],
   "source": [
    "# lets take an array a and take 12 elements inside it\n",
    "\n",
    "a = np.arange(0, 12)\n",
    "print(a)"
   ]
  },
  {
   "cell_type": "code",
   "execution_count": 3,
   "metadata": {},
   "outputs": [
    {
     "name": "stdout",
     "output_type": "stream",
     "text": [
      "Array with 3 Rows and 4 Columns\n",
      "[[ 0  1  2  3]\n",
      " [ 4  5  6  7]\n",
      " [ 8  9 10 11]] \n",
      "\n",
      "Array with 4 Rows and 3 Columns\n",
      "[[ 0  1  2]\n",
      " [ 3  4  5]\n",
      " [ 6  7  8]\n",
      " [ 9 10 11]] \n",
      "\n",
      "Array with 6 Rows and 2 Columns\n",
      "[[ 0  1]\n",
      " [ 2  3]\n",
      " [ 4  5]\n",
      " [ 6  7]\n",
      " [ 8  9]\n",
      " [10 11]] \n",
      "\n",
      "Array with 2 Rows and 6 Columns\n",
      "[[ 0  1  2  3  4  5]\n",
      " [ 6  7  8  9 10 11]] \n",
      "\n"
     ]
    }
   ],
   "source": [
    "# lets try to resize this array\n",
    "\n",
    "print('Array with 3 Rows and 4 Columns')\n",
    "b = a.reshape(3, 4)\n",
    "print(b,'\\n')\n",
    "\n",
    "print('Array with 4 Rows and 3 Columns')\n",
    "c = a.reshape(4, 3)\n",
    "print(c, '\\n')\n",
    "\n",
    "print('Array with 6 Rows and 2 Columns')\n",
    "d = a.reshape(6, 2)\n",
    "print(d, '\\n')\n",
    "\n",
    "print('Array with 2 Rows and 6 Columns')\n",
    "e = a.reshape(2, 6)\n",
    "print(e, '\\n')"
   ]
  },
  {
   "attachments": {},
   "cell_type": "markdown",
   "metadata": {},
   "source": [
    "Note : Dimension of -1 automatically resizes it to whatever is needed."
   ]
  },
  {
   "cell_type": "code",
   "execution_count": 4,
   "metadata": {},
   "outputs": [
    {
     "name": "stdout",
     "output_type": "stream",
     "text": [
      "[[ 0  1  2]\n",
      " [ 3  4  5]\n",
      " [ 6  7  8]\n",
      " [ 9 10 11]] \n",
      "\n",
      "[[ 0  1  2  3]\n",
      " [ 4  5  6  7]\n",
      " [ 8  9 10 11]] \n",
      "\n",
      "[[ 0  1]\n",
      " [ 2  3]\n",
      " [ 4  5]\n",
      " [ 6  7]\n",
      " [ 8  9]\n",
      " [10 11]] \n",
      "\n",
      "[ 0  1  2  3  4  5  6  7  8  9 10 11] \n",
      "\n"
     ]
    }
   ],
   "source": [
    "# If you specify -1 as a dimension, the dimensions are automatically calculated\n",
    "\n",
    "x = a.reshape(4, -1)\n",
    "y = a.reshape(3, -1)\n",
    "z = a.reshape(6, -1)\n",
    "q = a.reshape(2, -1)\n",
    "\n",
    "print(x, '\\n')\n",
    "print(y, '\\n')\n",
    "print(z, '\\n')\n",
    "print(a, '\\n')"
   ]
  },
  {
   "attachments": {},
   "cell_type": "markdown",
   "metadata": {},
   "source": [
    "# Transposing Arrays : \n",
    "\n",
    "This is done using x.T"
   ]
  },
  {
   "cell_type": "code",
   "execution_count": 5,
   "metadata": {},
   "outputs": [
    {
     "name": "stdout",
     "output_type": "stream",
     "text": [
      "Before Transposition of Array b\n",
      "[[3 4 4]\n",
      " [7 7 8]]\n",
      "After Transposition of Array a\n",
      "[[3 7]\n",
      " [4 7]\n",
      " [4 8]]\n"
     ]
    }
   ],
   "source": [
    "# lets make an array and transpose the array\n",
    "\n",
    "# lets take an array\n",
    "array = np.array([[3, 4, 4],[7, 7,8]])\n",
    "\n",
    "print('Before Transposition of Array b')\n",
    "print(array)\n",
    "\n",
    "# lets transpose the array\n",
    "transpose = array.T\n",
    "\n",
    "print('After Transposition of Array a')\n",
    "print(transpose)"
   ]
  },
  {
   "attachments": {},
   "cell_type": "markdown",
   "metadata": {},
   "source": [
    "# Stacking Arrays : \n",
    "Stacking is done using the np.hstack() and np.vstack() methods.\n",
    "\n",
    " For horizontal stacking, the number of rows should be the same.\\\n",
    " For vertical stacking, the number of columns should be the same."
   ]
  },
  {
   "cell_type": "code",
   "execution_count": 9,
   "metadata": {},
   "outputs": [
    {
     "name": "stdout",
     "output_type": "stream",
     "text": [
      "First Array\n",
      "[[ 0  1  2  3  4]\n",
      " [ 5  6  7  8  9]\n",
      " [10 11 12 13 14]\n",
      " [15 16 17 18 19]\n",
      " [20 21 22 23 24]] \n",
      "\n",
      "Second Array\n",
      "[[ 0  1  2  3  4]\n",
      " [ 5  6  7  8  9]\n",
      " [10 11 12 13 14]\n",
      " [15 16 17 18 19]\n",
      " [20 21 22 23 24]]\n"
     ]
    }
   ],
   "source": [
    "# lets create two arrays for performing the operation of vertical stacking\n",
    "\n",
    "# for vertical stacking the number of columns must be same\n",
    "arr1 = np.arange(25).reshape(5, 5)\n",
    "arr2 = np.arange(25).reshape(5, 5)\n",
    "\n",
    "print('First Array')\n",
    "print(arr1, '\\n')\n",
    "print('Second Array')\n",
    "print(arr2)"
   ]
  },
  {
   "attachments": {},
   "cell_type": "markdown",
   "metadata": {},
   "source": [
    "# vstack()"
   ]
  },
  {
   "cell_type": "code",
   "execution_count": 10,
   "metadata": {},
   "outputs": [
    {
     "data": {
      "text/plain": [
       "array([[ 0,  1,  2,  3,  4],\n",
       "       [ 5,  6,  7,  8,  9],\n",
       "       [10, 11, 12, 13, 14],\n",
       "       [15, 16, 17, 18, 19],\n",
       "       [20, 21, 22, 23, 24],\n",
       "       [ 0,  1,  2,  3,  4],\n",
       "       [ 5,  6,  7,  8,  9],\n",
       "       [10, 11, 12, 13, 14],\n",
       "       [15, 16, 17, 18, 19],\n",
       "       [20, 21, 22, 23, 24]])"
      ]
     },
     "execution_count": 10,
     "metadata": {},
     "output_type": "execute_result"
    }
   ],
   "source": [
    "# Note that np.vstack(a, b) throws an error - you need to pass the arrays as a list\n",
    "\n",
    "np.vstack((arr1, arr2))"
   ]
  },
  {
   "attachments": {},
   "cell_type": "markdown",
   "metadata": {},
   "source": [
    "# hstack()"
   ]
  },
  {
   "cell_type": "code",
   "execution_count": 11,
   "metadata": {},
   "outputs": [
    {
     "data": {
      "text/plain": [
       "array([[ 0,  1,  2,  3,  4,  0,  1,  2,  3,  4],\n",
       "       [ 5,  6,  7,  8,  9,  5,  6,  7,  8,  9],\n",
       "       [10, 11, 12, 13, 14, 10, 11, 12, 13, 14],\n",
       "       [15, 16, 17, 18, 19, 15, 16, 17, 18, 19],\n",
       "       [20, 21, 22, 23, 24, 20, 21, 22, 23, 24]])"
      ]
     },
     "execution_count": 11,
     "metadata": {},
     "output_type": "execute_result"
    }
   ],
   "source": [
    "# Note that np.hstack(a, b) throws an error - you need to pass the arrays as a list\n",
    "\n",
    "np.hstack((arr1, arr2))"
   ]
  },
  {
   "attachments": {},
   "cell_type": "markdown",
   "metadata": {},
   "source": [
    "# Basic Mathematical Operations : \n",
    "\n",
    "1. Single Array Operations\n",
    "2. Double Array Operations"
   ]
  },
  {
   "attachments": {},
   "cell_type": "markdown",
   "metadata": {},
   "source": [
    "# Single Array Operations"
   ]
  },
  {
   "cell_type": "code",
   "execution_count": 12,
   "metadata": {},
   "outputs": [
    {
     "data": {
      "text/plain": [
       "array([1.41421356, 1.73205081, 2.23606798, 2.44948974, 2.64575131,\n",
       "       2.82842712])"
      ]
     },
     "execution_count": 12,
     "metadata": {},
     "output_type": "execute_result"
    }
   ],
   "source": [
    "a = np.array([2, 3, 5, 6, 7, 8])\n",
    "\n",
    "sin = np.sin(a)\n",
    "cos = np.cos(a)\n",
    "tan = np.tan(a)\n",
    "log = np.log(a)\n",
    "exp = np.exp(a)\n",
    "sqrt = np.sqrt(a)\n",
    "sqrt"
   ]
  },
  {
   "cell_type": "code",
   "execution_count": 13,
   "metadata": {},
   "outputs": [
    {
     "data": {
      "text/plain": [
       "[0.5, 0.3333333333333333, 0.25, 0.2, 0.16666666666666666]"
      ]
     },
     "execution_count": 13,
     "metadata": {},
     "output_type": "execute_result"
    }
   ],
   "source": [
    "x = [2, 3, 4, 5, 6]\n",
    "z = [1/a for a in x]\n",
    "z"
   ]
  },
  {
   "cell_type": "code",
   "execution_count": 14,
   "metadata": {},
   "outputs": [
    {
     "name": "stdout",
     "output_type": "stream",
     "text": [
      "sin of array a\n",
      "[ 0.          0.84147098  0.90929743  0.14112001 -0.7568025  -0.95892427\n",
      " -0.2794155   0.6569866   0.98935825  0.41211849] \n",
      "\n",
      "cos of array a\n",
      "[ 1.          0.54030231 -0.41614684 -0.9899925  -0.65364362  0.28366219\n",
      "  0.96017029  0.75390225 -0.14550003 -0.91113026] \n",
      "\n",
      "tan of array a\n",
      "[ 0.          1.55740772 -2.18503986 -0.14254654  1.15782128 -3.38051501\n",
      " -0.29100619  0.87144798 -6.79971146 -0.45231566] \n",
      "\n",
      "log of array a\n",
      "[      -inf 0.         0.69314718 1.09861229 1.38629436 1.60943791\n",
      " 1.79175947 1.94591015 2.07944154 2.19722458] \n",
      "\n",
      "exp of array a\n",
      "[1.00000000e+00 2.71828183e+00 7.38905610e+00 2.00855369e+01\n",
      " 5.45981500e+01 1.48413159e+02 4.03428793e+02 1.09663316e+03\n",
      " 2.98095799e+03 8.10308393e+03] \n",
      "\n",
      "sqrt of array a\n",
      "[0.         1.         1.41421356 1.73205081 2.         2.23606798\n",
      " 2.44948974 2.64575131 2.82842712 3.        ] \n",
      "\n"
     ]
    },
    {
     "name": "stderr",
     "output_type": "stream",
     "text": [
      "C:\\Users\\Hitesh\\AppData\\Local\\Temp\\ipykernel_6512\\1420204510.py:22: RuntimeWarning: divide by zero encountered in log\n",
      "  log = np.log(array)\n"
     ]
    }
   ],
   "source": [
    "# lets create an array, where we will perform our operations\n",
    "\n",
    "array = np.arange(10)\n",
    "\n",
    "# sin function\n",
    "print('sin of array a')\n",
    "sin = np.sin(array)\n",
    "print(sin, '\\n')\n",
    "\n",
    "# cos function\n",
    "print('cos of array a')\n",
    "cos = np.cos(array)\n",
    "print(cos, '\\n')\n",
    "\n",
    "# tan function\n",
    "print('tan of array a')\n",
    "tan = np.tan(array)\n",
    "print(tan, '\\n')\n",
    "\n",
    "# log function\n",
    "print('log of array a')\n",
    "log = np.log(array)\n",
    "print(log, '\\n')\n",
    "\n",
    "# exp function\n",
    "print('exp of array a')\n",
    "exp = np.exp(array)\n",
    "print(exp, '\\n')\n",
    "\n",
    "# sqrt function\n",
    "print('sqrt of array a')\n",
    "exp = np.sqrt(array)\n",
    "print(exp, '\\n')"
   ]
  },
  {
   "attachments": {},
   "cell_type": "markdown",
   "metadata": {},
   "source": [
    "# Double Array Operations"
   ]
  },
  {
   "cell_type": "code",
   "execution_count": 15,
   "metadata": {},
   "outputs": [
    {
     "name": "stdout",
     "output_type": "stream",
     "text": [
      "Sum Operation between arrays a and b\n",
      "[12 13  5  8] \n",
      "\n",
      "Subtract Operation between arrays a and b\n",
      "[ 2 -3 -1 -2] \n",
      "\n",
      "Multiply Operation between arrays a and b\n",
      "[35 40  6 15] \n",
      "\n",
      "Divide Operation between arrays a and b\n",
      "[1.4        0.625      0.66666667 0.6       ] \n",
      "\n",
      "power Operation between arrays a and b\n",
      "[ 16807 390625      8    243] \n",
      "\n",
      "Remainder Operation between arrays a and b\n",
      "[2 5 2 3] \n",
      "\n",
      "Modulus Operation between arrays a and b\n",
      "[2 5 2 3] \n",
      "\n"
     ]
    }
   ],
   "source": [
    "# lets take two arrays on which we will perform the operations\n",
    "\n",
    "a = np.array([7, 5, 2, 3])\n",
    "b = np.array([5, 8, 3, 5])\n",
    "\n",
    "# mathematical operations\n",
    "\n",
    "print('Sum Operation between arrays a and b')\n",
    "add = np.add(a, b)\n",
    "print(add, '\\n')\n",
    "\n",
    "print('Subtract Operation between arrays a and b')\n",
    "subtract = np.subtract(a, b)\n",
    "print(subtract, '\\n')\n",
    "\n",
    "print('Multiply Operation between arrays a and b')\n",
    "multiply = np.multiply(a, b)\n",
    "print(multiply, '\\n')\n",
    "\n",
    "print('Divide Operation between arrays a and b')\n",
    "div = np.divide(a, b)\n",
    "print(div, '\\n')\n",
    "\n",
    "print('power Operation between arrays a and b')\n",
    "power = np.power(a, b)\n",
    "print(power, '\\n')\n",
    "\n",
    "print('Remainder Operation between arrays a and b')\n",
    "rem = np.remainder(a, b)\n",
    "print(rem, '\\n')\n",
    "\n",
    "print('Modulus Operation between arrays a and b')\n",
    "mod = np.mod(a, b)\n",
    "print(mod, '\\n')"
   ]
  }
 ],
 "metadata": {
  "kernelspec": {
   "display_name": "Python 3",
   "language": "python",
   "name": "python3"
  },
  "language_info": {
   "codemirror_mode": {
    "name": "ipython",
    "version": 3
   },
   "file_extension": ".py",
   "mimetype": "text/x-python",
   "name": "python",
   "nbconvert_exporter": "python",
   "pygments_lexer": "ipython3",
   "version": "3.11.1"
  },
  "orig_nbformat": 4
 },
 "nbformat": 4,
 "nbformat_minor": 2
}
