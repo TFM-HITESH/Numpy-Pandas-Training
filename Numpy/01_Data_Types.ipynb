{
 "cells": [
  {
   "attachments": {},
   "cell_type": "markdown",
   "metadata": {},
   "source": [
    "# DATA TYPES :\n",
    "\n",
    "Numpy Supports a greater Variety of Data Types in Comparison to Python"
   ]
  },
  {
   "attachments": {},
   "cell_type": "markdown",
   "metadata": {
    "slideshow": {
     "slide_type": "slide"
    }
   },
   "source": [
    "Here is a list of all the Primitve Data Types offered in Numpy :\n",
    "\n",
    "1. np.bool . . . . . . . . . . . . . . . . . (Boolean)\n",
    "\n",
    "2. np.byte . . . . . . . . . . . . . . . . . (Signed Char)\n",
    "3. np.ubyte . . . . . . . . . . . . . . . . (Unsigned Char)\n",
    "\n",
    "4. np.short\t. . . . . . . . . . . . . . . . .(Short Int) \n",
    "5. np.ushort . . . . . . . . . . . . . . . .(Unsigned Short Int)\n",
    "6. np.intc . . . . . . . . . . . . . . . . . . (Integer)\n",
    "7. np.uintc . . . . . . . . . . . . . . . . .(Unsigned Integer)\n",
    "8. np.int_ . . . . . . . . . . . . . . . . . . (Long Int)\n",
    "9. np.uint . . . . . . . . . . . . . . . . . .(Unsigned Long Int)\n",
    "10. np.longlong . . . . . . . . . . . . . (Long Long Int)\n",
    "11. np.ulonglong . . . . . . . . . . . . (Unsigned Long Long Int)\n",
    "\n",
    "12. np.half [or] np.float16 . . . . .(Half Precision Float)\n",
    "13. np.single . . . . . . . . . . . . . . . . (Float)\n",
    "14. np.double . . . . . . . . . . . . . . . (Double Float)\n",
    "15. np.longdouble . . . . . . . . . . . (Long Double)\n",
    "\n",
    "16. np.csingle . . . . . . . . . . . . . . . (Float Complex)\n",
    "17. np.cdouble . . . . . . . . . . . . . . (Double Complex)\n",
    "18. np.clongdouble . . . . . . . . . . (Long Double Complex)"
   ]
  },
  {
   "attachments": {},
   "cell_type": "markdown",
   "metadata": {},
   "source": [
    "Numpy also offers certain Aliases for Fixed Size Data Types : \n",
    "\n",
    "1. np.int8 . . . . . . . . . . . . . . . . . .(8 Bit Integer)\n",
    "2. np.int16 . . . . . . . . . . . . . . . . .(16 Bit Integer)\n",
    "3. np.int32 . . . . . . . . . . . . . . . . .(32 Bit Integer)\n",
    "4. np.int64\t. . . . . . . . . . . . . . . . .(64 Bit Integert) \n",
    "\n",
    "5. np.uint8 . . . . . . . . . . . . . . . . (8 Bit Unsigned Integer)\n",
    "6. np.uint16 . . . . . . . . . . . . . . . (16 Bit Unsigned Integer)\n",
    "7. np.uint32 . . . . . . . . . . . . . . . (32 Bit Unsigned Integer)\n",
    "8. np.uint64 . . . . . . . . . . . . . . . (64 Bit Unsigned Integer)\n",
    "\n",
    "9. np.float32 . . . . . . . . . . . . . . .(Float)\n",
    "10. np.float64 . . . . . . . . . . . . . . .(Double)\n",
    "11. np.complex64 . . . . . . . . . . .(64 Bit Complex)\n",
    "12. np.complex128 . . . . . . . . . .(128 Bit Complex)\n"
   ]
  },
  {
   "attachments": {},
   "cell_type": "markdown",
   "metadata": {},
   "source": [
    "Remember to run the command 'pip install numpy' in your VS Code Terminal at the File Location of the project for the numpy import to work.\n"
   ]
  },
  {
   "attachments": {},
   "cell_type": "markdown",
   "metadata": {},
   "source": [
    "Importing Numpy module with alias np"
   ]
  },
  {
   "cell_type": "code",
   "execution_count": 9,
   "metadata": {},
   "outputs": [],
   "source": [
    "import numpy as np"
   ]
  },
  {
   "attachments": {},
   "cell_type": "markdown",
   "metadata": {},
   "source": [
    "Setting x to 1.0 with Data Type : 32 Bit Float (Float)"
   ]
  },
  {
   "cell_type": "code",
   "execution_count": 13,
   "metadata": {},
   "outputs": [
    {
     "name": "stdout",
     "output_type": "stream",
     "text": [
      "1.0\n"
     ]
    }
   ],
   "source": [
    "x = np.float32(1.0)\n",
    "print(x)"
   ]
  },
  {
   "attachments": {},
   "cell_type": "markdown",
   "metadata": {},
   "source": [
    "Setting x with Data Type : 64 Bit Float (Double)"
   ]
  },
  {
   "cell_type": "code",
   "execution_count": 14,
   "metadata": {},
   "outputs": [
    {
     "name": "stdout",
     "output_type": "stream",
     "text": [
      "9.464646464646464e+32\n"
     ]
    }
   ],
   "source": [
    "x = np.float64(946464646464646464646464646464466.333131313113)\n",
    "print(x)"
   ]
  },
  {
   "attachments": {},
   "cell_type": "markdown",
   "metadata": {},
   "source": [
    "Setting x with a Array of values of Data Type : Long Int"
   ]
  },
  {
   "cell_type": "code",
   "execution_count": 15,
   "metadata": {},
   "outputs": [
    {
     "name": "stdout",
     "output_type": "stream",
     "text": [
      "[1 2 4]\n"
     ]
    }
   ],
   "source": [
    "x = np.int_([1,2,4])\n",
    "print(x)"
   ]
  },
  {
   "attachments": {},
   "cell_type": "markdown",
   "metadata": {},
   "source": [
    "The np.arange() function :\n",
    "\n",
    "<div> \n",
    "Creates an Array of values, given a Range and a Step Value.\n",
    "</div>\n",
    "\n",
    "Syntax : np.arange(start, stop, step)\n",
    "\n",
    "\n",
    "1. Start = Starting value of the range\n",
    "2. Stop = Ending value of the range\n",
    "3. Step = The amount by which each value is skipped\n",
    "\n",
    "\n"
   ]
  },
  {
   "cell_type": "code",
   "execution_count": 16,
   "metadata": {},
   "outputs": [
    {
     "name": "stdout",
     "output_type": "stream",
     "text": [
      "[0 1 2]\n"
     ]
    }
   ],
   "source": [
    "x = np.arange(3, dtype=np.uint8)\n",
    "print(x)"
   ]
  },
  {
   "attachments": {},
   "cell_type": "markdown",
   "metadata": {},
   "source": [
    "<div>\n",
    "Additionally, one can set the data type of the array also.\n",
    "</div>\n",
    "Syntax : np.arange(start, stop, step, d_type=' ')"
   ]
  },
  {
   "cell_type": "code",
   "execution_count": 24,
   "metadata": {},
   "outputs": [
    {
     "name": "stdout",
     "output_type": "stream",
     "text": [
      "[1. 2. 3.]\n"
     ]
    }
   ],
   "source": [
    "x = np.array([1, 2, 3], dtype='f')\n",
    "print(x)"
   ]
  },
  {
   "attachments": {},
   "cell_type": "markdown",
   "metadata": {},
   "source": [
    "Note that how the output is an Array Type. \n",
    "\n",
    "1. When just invoked, it shows the value of x as an Array.\n",
    "2. When passed as a parameter to print(), it prints the elements of the Array."
   ]
  },
  {
   "cell_type": "code",
   "execution_count": 23,
   "metadata": {},
   "outputs": [
    {
     "data": {
      "text/plain": [
       "array([2, 4, 6, 8])"
      ]
     },
     "execution_count": 23,
     "metadata": {},
     "output_type": "execute_result"
    }
   ],
   "source": [
    "x = np.arange(2, 10, 2)\n",
    "x"
   ]
  },
  {
   "cell_type": "code",
   "execution_count": 22,
   "metadata": {},
   "outputs": [
    {
     "name": "stdout",
     "output_type": "stream",
     "text": [
      "[2 4 6 8]\n"
     ]
    }
   ],
   "source": [
    "x = np.arange(2, 10, 2)\n",
    "print(x)"
   ]
  }
 ],
 "metadata": {
  "kernelspec": {
   "display_name": "Python 3",
   "language": "python",
   "name": "python3"
  },
  "language_info": {
   "codemirror_mode": {
    "name": "ipython",
    "version": 3
   },
   "file_extension": ".py",
   "mimetype": "text/x-python",
   "name": "python",
   "nbconvert_exporter": "python",
   "pygments_lexer": "ipython3",
   "version": "3.11.1"
  },
  "orig_nbformat": 4
 },
 "nbformat": 4,
 "nbformat_minor": 2
}
